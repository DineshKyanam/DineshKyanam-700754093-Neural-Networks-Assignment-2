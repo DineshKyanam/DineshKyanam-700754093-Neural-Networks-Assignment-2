{
 "cells": [
  {
   "cell_type": "code",
   "execution_count": 1,
   "id": "a706e3da",
   "metadata": {},
   "outputs": [
    {
     "name": "stdout",
     "output_type": "stream",
     "text": [
      "Enter Your First Name:Dinesh\n",
      "Enter your Last Name:Kyanam\n",
      "DineshKyanam\n"
     ]
    }
   ],
   "source": [
    "First_name=input(\"Enter Your First Name:\")\n",
    "Last_name=input(\"Enter your Last Name:\")\n",
    "Full_name=First_name+Last_name\n",
    "print(Full_name)"
   ]
  },
  {
   "cell_type": "code",
   "execution_count": 6,
   "id": "042404db",
   "metadata": {},
   "outputs": [
    {
     "name": "stdout",
     "output_type": "stream",
     "text": [
      "enter the string:Good Evening\n",
      "Go vnn\n"
     ]
    }
   ],
   "source": [
    "def string_alternative(full_name):\n",
    "    return full_name[::2]\n",
    "\n",
    "full_name = input(\"enter the string:\")\n",
    "result = string_alternative(full_name)\n",
    "print(result)"
   ]
  },
  {
   "cell_type": "code",
   "execution_count": 7,
   "id": "660e07c6",
   "metadata": {},
   "outputs": [
    {
     "name": "stdout",
     "output_type": "stream",
     "text": [
      "{'Python': 1, 'Course': 2, 'Deep': 1, 'Learning': 1}\n"
     ]
    }
   ],
   "source": [
    "def word_count(str):\n",
    "    counts = dict()\n",
    "    words = str.split()\n",
    "    for word in words:\n",
    "        if word in counts:\n",
    "            counts[word] += 1\n",
    "        else:\n",
    "            counts[word] = 1\n",
    "    return counts\n",
    "print( word_count('Python Course Deep Learning Course'))"
   ]
  },
  {
   "cell_type": "code",
   "execution_count": 5,
   "id": "34b754cc",
   "metadata": {},
   "outputs": [
    {
     "name": "stdout",
     "output_type": "stream",
     "text": [
      "Using Nested Interactive Loop: [381.0, 393.7, 368.3, 375.92]\n",
      "Using List Comprehension: [381.0, 393.7, 368.3, 375.92]\n"
     ]
    }
   ],
   "source": [
    "def convert_heights_nested_loop(heights_inches):\n",
    "    heights_cm = []\n",
    "    for height in heights_inches:\n",
    "        height_cm = height * 2.54\n",
    "        heights_cm.append(round(height_cm, 2))\n",
    "    return heights_cm\n",
    "\n",
    "def convert_heights_list_comprehension(heights_inches):\n",
    "    \n",
    "    heights_cm = [round(height * 2.54, 2) for height in heights_inches]\n",
    "    return heights_cm\n",
    "\n",
    "\n",
    "heights_list = [150, 155, 145, 148]\n",
    "\n",
    "\n",
    "heights_cm_nested_loop = convert_heights_nested_loop(heights_list)\n",
    "print(\"Using Nested Interactive Loop:\", heights_cm_nested_loop)\n",
    "\n",
    "\n",
    "heights_cm_list_comprehension = convert_heights_list_comprehension(heights_list)\n",
    "print(\"Using List Comprehension:\", heights_cm_list_comprehension)"
   ]
  },
  {
   "cell_type": "code",
   "execution_count": null,
   "id": "79b31c2a",
   "metadata": {},
   "outputs": [],
   "source": []
  }
 ],
 "metadata": {
  "kernelspec": {
   "display_name": "Python 3 (ipykernel)",
   "language": "python",
   "name": "python3"
  },
  "language_info": {
   "codemirror_mode": {
    "name": "ipython",
    "version": 3
   },
   "file_extension": ".py",
   "mimetype": "text/x-python",
   "name": "python",
   "nbconvert_exporter": "python",
   "pygments_lexer": "ipython3",
   "version": "3.11.5"
  }
 },
 "nbformat": 4,
 "nbformat_minor": 5
}
